{
  "nbformat": 4,
  "nbformat_minor": 0,
  "metadata": {
    "colab": {
      "provenance": []
    },
    "kernelspec": {
      "name": "python3",
      "display_name": "Python 3"
    },
    "language_info": {
      "name": "python"
    }
  },
  "cells": [
    {
      "cell_type": "markdown",
      "source": [
        "### **IMPORT**"
      ],
      "metadata": {
        "id": "hR3LlQG2CDCv"
      }
    },
    {
      "cell_type": "code",
      "execution_count": null,
      "metadata": {
        "id": "yj2Sv35vB9RF"
      },
      "outputs": [],
      "source": [
        "!pip install pandas-datareader\n",
        "!pip install yfinance"
      ]
    },
    {
      "cell_type": "code",
      "source": [
        "import pandas_datareader.data as web\n",
        "import pandas_datareader as pdr\n",
        "import matplotlib.pyplot as plt\n",
        "import yfinance as yf\n",
        "import seaborn as sns\n",
        "import scipy as sp"
      ],
      "metadata": {
        "id": "ABqqqI0yCC0N"
      },
      "execution_count": 18,
      "outputs": []
    },
    {
      "cell_type": "markdown",
      "source": [
        "### **DATA LOAD**"
      ],
      "metadata": {
        "id": "I6Jn3E2RCNeA"
      }
    },
    {
      "cell_type": "code",
      "source": [
        "yf.pdr_override()"
      ],
      "metadata": {
        "id": "KG4Y7sY9DjRd"
      },
      "execution_count": 21,
      "outputs": []
    },
    {
      "cell_type": "code",
      "source": [
        "amzn = web.get_data_yahoo('AMZN', start='2000-01-01', end='2022-12-31', progress=False)\n",
        "amzn.head()"
      ],
      "metadata": {
        "colab": {
          "base_uri": "https://localhost:8080/",
          "height": 235
        },
        "id": "Og0dNF8aC1iy",
        "outputId": "204da1be-4848-4274-bbec-e98917e72dbd"
      },
      "execution_count": 22,
      "outputs": [
        {
          "output_type": "execute_result",
          "data": {
            "text/plain": [
              "                Open      High       Low     Close  Adj Close     Volume\n",
              "Date                                                                    \n",
              "2000-01-03  4.075000  4.478125  3.952344  4.468750   4.468750  322352000\n",
              "2000-01-04  4.268750  4.575000  4.087500  4.096875   4.096875  349748000\n",
              "2000-01-05  3.525000  3.756250  3.400000  3.487500   3.487500  769148000\n",
              "2000-01-06  3.565625  3.634375  3.200000  3.278125   3.278125  375040000\n",
              "2000-01-07  3.350000  3.525000  3.309375  3.478125   3.478125  210108000"
            ],
            "text/html": [
              "\n",
              "  <div id=\"df-cbbb9c4a-98c7-40a9-a61c-4c5e87beace5\">\n",
              "    <div class=\"colab-df-container\">\n",
              "      <div>\n",
              "<style scoped>\n",
              "    .dataframe tbody tr th:only-of-type {\n",
              "        vertical-align: middle;\n",
              "    }\n",
              "\n",
              "    .dataframe tbody tr th {\n",
              "        vertical-align: top;\n",
              "    }\n",
              "\n",
              "    .dataframe thead th {\n",
              "        text-align: right;\n",
              "    }\n",
              "</style>\n",
              "<table border=\"1\" class=\"dataframe\">\n",
              "  <thead>\n",
              "    <tr style=\"text-align: right;\">\n",
              "      <th></th>\n",
              "      <th>Open</th>\n",
              "      <th>High</th>\n",
              "      <th>Low</th>\n",
              "      <th>Close</th>\n",
              "      <th>Adj Close</th>\n",
              "      <th>Volume</th>\n",
              "    </tr>\n",
              "    <tr>\n",
              "      <th>Date</th>\n",
              "      <th></th>\n",
              "      <th></th>\n",
              "      <th></th>\n",
              "      <th></th>\n",
              "      <th></th>\n",
              "      <th></th>\n",
              "    </tr>\n",
              "  </thead>\n",
              "  <tbody>\n",
              "    <tr>\n",
              "      <th>2000-01-03</th>\n",
              "      <td>4.075000</td>\n",
              "      <td>4.478125</td>\n",
              "      <td>3.952344</td>\n",
              "      <td>4.468750</td>\n",
              "      <td>4.468750</td>\n",
              "      <td>322352000</td>\n",
              "    </tr>\n",
              "    <tr>\n",
              "      <th>2000-01-04</th>\n",
              "      <td>4.268750</td>\n",
              "      <td>4.575000</td>\n",
              "      <td>4.087500</td>\n",
              "      <td>4.096875</td>\n",
              "      <td>4.096875</td>\n",
              "      <td>349748000</td>\n",
              "    </tr>\n",
              "    <tr>\n",
              "      <th>2000-01-05</th>\n",
              "      <td>3.525000</td>\n",
              "      <td>3.756250</td>\n",
              "      <td>3.400000</td>\n",
              "      <td>3.487500</td>\n",
              "      <td>3.487500</td>\n",
              "      <td>769148000</td>\n",
              "    </tr>\n",
              "    <tr>\n",
              "      <th>2000-01-06</th>\n",
              "      <td>3.565625</td>\n",
              "      <td>3.634375</td>\n",
              "      <td>3.200000</td>\n",
              "      <td>3.278125</td>\n",
              "      <td>3.278125</td>\n",
              "      <td>375040000</td>\n",
              "    </tr>\n",
              "    <tr>\n",
              "      <th>2000-01-07</th>\n",
              "      <td>3.350000</td>\n",
              "      <td>3.525000</td>\n",
              "      <td>3.309375</td>\n",
              "      <td>3.478125</td>\n",
              "      <td>3.478125</td>\n",
              "      <td>210108000</td>\n",
              "    </tr>\n",
              "  </tbody>\n",
              "</table>\n",
              "</div>\n",
              "      <button class=\"colab-df-convert\" onclick=\"convertToInteractive('df-cbbb9c4a-98c7-40a9-a61c-4c5e87beace5')\"\n",
              "              title=\"Convert this dataframe to an interactive table.\"\n",
              "              style=\"display:none;\">\n",
              "        \n",
              "  <svg xmlns=\"http://www.w3.org/2000/svg\" height=\"24px\"viewBox=\"0 0 24 24\"\n",
              "       width=\"24px\">\n",
              "    <path d=\"M0 0h24v24H0V0z\" fill=\"none\"/>\n",
              "    <path d=\"M18.56 5.44l.94 2.06.94-2.06 2.06-.94-2.06-.94-.94-2.06-.94 2.06-2.06.94zm-11 1L8.5 8.5l.94-2.06 2.06-.94-2.06-.94L8.5 2.5l-.94 2.06-2.06.94zm10 10l.94 2.06.94-2.06 2.06-.94-2.06-.94-.94-2.06-.94 2.06-2.06.94z\"/><path d=\"M17.41 7.96l-1.37-1.37c-.4-.4-.92-.59-1.43-.59-.52 0-1.04.2-1.43.59L10.3 9.45l-7.72 7.72c-.78.78-.78 2.05 0 2.83L4 21.41c.39.39.9.59 1.41.59.51 0 1.02-.2 1.41-.59l7.78-7.78 2.81-2.81c.8-.78.8-2.07 0-2.86zM5.41 20L4 18.59l7.72-7.72 1.47 1.35L5.41 20z\"/>\n",
              "  </svg>\n",
              "      </button>\n",
              "      \n",
              "  <style>\n",
              "    .colab-df-container {\n",
              "      display:flex;\n",
              "      flex-wrap:wrap;\n",
              "      gap: 12px;\n",
              "    }\n",
              "\n",
              "    .colab-df-convert {\n",
              "      background-color: #E8F0FE;\n",
              "      border: none;\n",
              "      border-radius: 50%;\n",
              "      cursor: pointer;\n",
              "      display: none;\n",
              "      fill: #1967D2;\n",
              "      height: 32px;\n",
              "      padding: 0 0 0 0;\n",
              "      width: 32px;\n",
              "    }\n",
              "\n",
              "    .colab-df-convert:hover {\n",
              "      background-color: #E2EBFA;\n",
              "      box-shadow: 0px 1px 2px rgba(60, 64, 67, 0.3), 0px 1px 3px 1px rgba(60, 64, 67, 0.15);\n",
              "      fill: #174EA6;\n",
              "    }\n",
              "\n",
              "    [theme=dark] .colab-df-convert {\n",
              "      background-color: #3B4455;\n",
              "      fill: #D2E3FC;\n",
              "    }\n",
              "\n",
              "    [theme=dark] .colab-df-convert:hover {\n",
              "      background-color: #434B5C;\n",
              "      box-shadow: 0px 1px 3px 1px rgba(0, 0, 0, 0.15);\n",
              "      filter: drop-shadow(0px 1px 2px rgba(0, 0, 0, 0.3));\n",
              "      fill: #FFFFFF;\n",
              "    }\n",
              "  </style>\n",
              "\n",
              "      <script>\n",
              "        const buttonEl =\n",
              "          document.querySelector('#df-cbbb9c4a-98c7-40a9-a61c-4c5e87beace5 button.colab-df-convert');\n",
              "        buttonEl.style.display =\n",
              "          google.colab.kernel.accessAllowed ? 'block' : 'none';\n",
              "\n",
              "        async function convertToInteractive(key) {\n",
              "          const element = document.querySelector('#df-cbbb9c4a-98c7-40a9-a61c-4c5e87beace5');\n",
              "          const dataTable =\n",
              "            await google.colab.kernel.invokeFunction('convertToInteractive',\n",
              "                                                     [key], {});\n",
              "          if (!dataTable) return;\n",
              "\n",
              "          const docLinkHtml = 'Like what you see? Visit the ' +\n",
              "            '<a target=\"_blank\" href=https://colab.research.google.com/notebooks/data_table.ipynb>data table notebook</a>'\n",
              "            + ' to learn more about interactive tables.';\n",
              "          element.innerHTML = '';\n",
              "          dataTable['output_type'] = 'display_data';\n",
              "          await google.colab.output.renderOutput(dataTable, element);\n",
              "          const docLink = document.createElement('div');\n",
              "          docLink.innerHTML = docLinkHtml;\n",
              "          element.appendChild(docLink);\n",
              "        }\n",
              "      </script>\n",
              "    </div>\n",
              "  </div>\n",
              "  "
            ]
          },
          "metadata": {},
          "execution_count": 22
        }
      ]
    },
    {
      "cell_type": "markdown",
      "source": [
        "### **AMZN**"
      ],
      "metadata": {
        "id": "-H0pNOZBESnU"
      }
    },
    {
      "cell_type": "code",
      "source": [
        "# 수익률 계산\n",
        "amzn_ret = amzn['Adj Close'].pct_change()\n",
        "amzn_ret.dropna(inplace=True)\n",
        "amzn_ret.head()"
      ],
      "metadata": {
        "colab": {
          "base_uri": "https://localhost:8080/"
        },
        "id": "gvz4Mh3iEV4L",
        "outputId": "2a3a2494-de8f-476a-bc7b-0c7b4f47f0f4"
      },
      "execution_count": 23,
      "outputs": [
        {
          "output_type": "execute_result",
          "data": {
            "text/plain": [
              "Date\n",
              "2000-01-04   -0.083217\n",
              "2000-01-05   -0.148741\n",
              "2000-01-06   -0.060036\n",
              "2000-01-07    0.061010\n",
              "2000-01-10   -0.005391\n",
              "Name: Adj Close, dtype: float64"
            ]
          },
          "metadata": {},
          "execution_count": 23
        }
      ]
    },
    {
      "cell_type": "code",
      "source": [
        "amzn_ret.describe()"
      ],
      "metadata": {
        "colab": {
          "base_uri": "https://localhost:8080/"
        },
        "id": "9NNemWFSEsb9",
        "outputId": "1171e4f9-9530-42ba-91fa-b30d2eb9739b"
      },
      "execution_count": 24,
      "outputs": [
        {
          "output_type": "execute_result",
          "data": {
            "text/plain": [
              "count    5786.000000\n",
              "mean        0.001008\n",
              "std         0.031910\n",
              "min        -0.247661\n",
              "25%        -0.012139\n",
              "50%         0.000407\n",
              "75%         0.013604\n",
              "max         0.344714\n",
              "Name: Adj Close, dtype: float64"
            ]
          },
          "metadata": {},
          "execution_count": 24
        }
      ]
    },
    {
      "cell_type": "code",
      "source": [
        "# zorder: Layer의 우선순위, 값이 클수록 앞에나옴\n",
        "\n",
        "plt.figure(figsize=(15,5))\n",
        "plt.plot(amzn_ret.index, amzn_ret, label='Return', zorder=0)\n",
        "# mean값의 그래프\n",
        "plt.hlines(amzn_ret.mean(), amzn_ret.index[0], amzn_ret.index[-1], label='Mean', color='r', zorder=1)\n",
        "plt.legend(loc='best')\n",
        "plt.grid()"
      ],
      "metadata": {
        "colab": {
          "base_uri": "https://localhost:8080/",
          "height": 243
        },
        "id": "uOor49OAE4O7",
        "outputId": "73af3569-eb02-4d43-ba7f-8def09dd8189"
      },
      "execution_count": 25,
      "outputs": [
        {
          "output_type": "display_data",
          "data": {
            "text/plain": [
              "<Figure size 1080x360 with 1 Axes>"
            ],
            "image/png": "[encoded data removed]"
          },
          "metadata": {
            "needs_background": "light"
          }
        }
      ]
    },
    {
      "cell_type": "code",
      "source": [
        "# distplot: 히스토그램을 그리는 plot\n",
        "# 정규분포를 fit하는 option을 추가할 수 있음\n",
        "# rug: 값 분포를 나타냄\n",
        "\n",
        "sns.distplot(amzn_ret, rug=True, kde=False, fit=sp.stats.norm)"
      ],
      "metadata": {
        "colab": {
          "base_uri": "https://localhost:8080/",
          "height": 384
        },
        "id": "_Bkm-MFPJU-N",
        "outputId": "20c846eb-3c64-4ccb-9dac-fa30bc0cd94a"
      },
      "execution_count": 26,
      "outputs": [
        {
          "output_type": "stream",
          "name": "stderr",
          "text": [
            "/usr/local/lib/python3.8/dist-packages/seaborn/distributions.py:2619: FutureWarning: `distplot` is a deprecated function and will be removed in a future version. Please adapt your code to use either `displot` (a figure-level function with similar flexibility) or `histplot` (an axes-level function for histograms).\n",
            "  warnings.warn(msg, FutureWarning)\n",
            "/usr/local/lib/python3.8/dist-packages/seaborn/distributions.py:2103: FutureWarning: The `axis` variable is no longer used and will be removed. Instead, assign variables directly to `x` or `y`.\n",
            "  warnings.warn(msg, FutureWarning)\n"
          ]
        },
        {
          "output_type": "execute_result",
          "data": {
            "text/plain": [
              "<AxesSubplot:xlabel='Adj Close'>"
            ]
          },
          "metadata": {},
          "execution_count": 26
        },
        {
          "output_type": "display_data",
          "data": {
            "text/plain": [
              "<Figure size 432x288 with 1 Axes>"
            ],
            "image/png": "[encoded data removed]"
          },
          "metadata": {
            "needs_background": "light"
          }
        }
      ]
    },
    {
      "cell_type": "code",
      "source": [
        "# skew(왜도): 정규분포에서 왜곡정도를 말한다. 데이터 분포의 대칭성이 얼마나 결핍되어있는지 측정\n",
        "#            완전대칭은 skewness 0, 오른쪽 꼬리가 더 길면 positive, 반대면 negative\n",
        "#            Positive는 평균 이하, Negative는 평균 이상\n",
        "\n",
        "# kurtois(첨도): 분포 그래프의 꼬리 부분에 관한 것\n",
        "#               분포에 존재하는 outlier에 대한 척도\n",
        "#               값이 높다면 많은 outlier를 가지고 있다는 뜻 \n",
        "\n",
        "sp.stats.skew(amzn_ret), sp.stats.kurtosis(amzn_ret)"
      ],
      "metadata": {
        "colab": {
          "base_uri": "https://localhost:8080/"
        },
        "id": "7yQjgbrpKM0K",
        "outputId": "d846a2a3-7576-4f18-8736-2009c9aedb3b"
      },
      "execution_count": 27,
      "outputs": [
        {
          "output_type": "execute_result",
          "data": {
            "text/plain": [
              "(1.138031693637233, 15.412033484608852)"
            ]
          },
          "metadata": {},
          "execution_count": 27
        }
      ]
    },
    {
      "cell_type": "code",
      "source": [
        "# Q-Q plot\n",
        "# 직선은 정규분포의 값, 점선은 데이터 값\n",
        "# 점선과 직선이 일치할수록 데이터는 정규분포를 따른다\n",
        "\n",
        "ax = plt.subplot()\n",
        "sp.stats.probplot(amzn_ret, plot=ax)\n",
        "plt.show()"
      ],
      "metadata": {
        "colab": {
          "base_uri": "https://localhost:8080/",
          "height": 295
        },
        "id": "_09VBXKGLpn2",
        "outputId": "1a47b9f8-06d9-48bd-b0a3-a97a2e9a7a71"
      },
      "execution_count": 28,
      "outputs": [
        {
          "output_type": "display_data",
          "data": {
            "text/plain": [
              "<Figure size 432x288 with 1 Axes>"
            ],
            "image/png": "[encoded data removed]"
          },
          "metadata": {
            "needs_background": "light"
          }
        }
      ]
    },
    {
      "cell_type": "code",
      "source": [
        "# K-S Test: 실제 데이터의 누적 확률 분포와 모집단의 누적 확률 분포간의 차이를 거리로 산정한 통계\n",
        "# 추출한 샘플들이 특정한 확률 분포를 따를 것인지 확인할 때 사용된다.\n",
        "# 두 개의 샘플 집합을 보고 같은 확률 분포에서 추출되었는지 확인할 때도 사용된다.\n",
        "\n",
        "sp.stats.kstest(amzn_ret, 'norm')"
      ],
      "metadata": {
        "colab": {
          "base_uri": "https://localhost:8080/"
        },
        "id": "dwhhUZlMMlYN",
        "outputId": "54f775c2-9101-4e26-c65d-aec2a363a950"
      },
      "execution_count": 29,
      "outputs": [
        {
          "output_type": "execute_result",
          "data": {
            "text/plain": [
              "KstestResult(statistic=0.4560008737987194, pvalue=0.0)"
            ]
          },
          "metadata": {},
          "execution_count": 29
        }
      ]
    },
    {
      "cell_type": "code",
      "source": [
        "# J-B Test: 데이터의 왜도와 첨도가 정규분포와 일치하는지 판단하는 방법\n",
        "\n",
        "sp.stats.jarque_bera(amzn_ret)"
      ],
      "metadata": {
        "colab": {
          "base_uri": "https://localhost:8080/"
        },
        "id": "2qVVXGOaMm9h",
        "outputId": "cd8808be-baed-4a57-e0cb-901c00185a21"
      },
      "execution_count": 30,
      "outputs": [
        {
          "output_type": "execute_result",
          "data": {
            "text/plain": [
              "Jarque_beraResult(statistic=58513.63493905938, pvalue=0.0)"
            ]
          },
          "metadata": {},
          "execution_count": 30
        }
      ]
    },
    {
      "cell_type": "markdown",
      "source": [
        "### **5-Industry Correlation**"
      ],
      "metadata": {
        "id": "n05twSYIxyRB"
      }
    },
    {
      "cell_type": "code",
      "source": [
        "ind5 = pdr.DataReader('5_Industry_Portfolios', 'famafrench', start='1990-01-01', end='2020-09-01')\n",
        "ind5[0].head()"
      ],
      "metadata": {
        "colab": {
          "base_uri": "https://localhost:8080/",
          "height": 235
        },
        "id": "pnGxB7c-x1jr",
        "outputId": "b2fe8a1e-9971-4734-b4db-aad6095152cf"
      },
      "execution_count": 36,
      "outputs": [
        {
          "output_type": "execute_result",
          "data": {
            "text/plain": [
              "         Cnsmr  Manuf  HiTec  Hlth   Other\n",
              "Date                                      \n",
              "1990-01  -7.49  -5.60  -8.56  -7.36  -8.87\n",
              "1990-02   1.35   2.16   1.57  -2.06   2.52\n",
              "1990-03   4.51   1.72   4.30   3.85  -0.26\n",
              "1990-04  -1.55  -3.54  -2.81   0.29  -3.46\n",
              "1990-05   9.87   7.00  10.79  12.77   9.10"
            ],
            "text/html": [
              "\n",
              "  <div id=\"df-cdbefde2-4cd8-435c-9efd-2fb405731571\">\n",
              "    <div class=\"colab-df-container\">\n",
              "      <div>\n",
              "<style scoped>\n",
              "    .dataframe tbody tr th:only-of-type {\n",
              "        vertical-align: middle;\n",
              "    }\n",
              "\n",
              "    .dataframe tbody tr th {\n",
              "        vertical-align: top;\n",
              "    }\n",
              "\n",
              "    .dataframe thead th {\n",
              "        text-align: right;\n",
              "    }\n",
              "</style>\n",
              "<table border=\"1\" class=\"dataframe\">\n",
              "  <thead>\n",
              "    <tr style=\"text-align: right;\">\n",
              "      <th></th>\n",
              "      <th>Cnsmr</th>\n",
              "      <th>Manuf</th>\n",
              "      <th>HiTec</th>\n",
              "      <th>Hlth</th>\n",
              "      <th>Other</th>\n",
              "    </tr>\n",
              "    <tr>\n",
              "      <th>Date</th>\n",
              "      <th></th>\n",
              "      <th></th>\n",
              "      <th></th>\n",
              "      <th></th>\n",
              "      <th></th>\n",
              "    </tr>\n",
              "  </thead>\n",
              "  <tbody>\n",
              "    <tr>\n",
              "      <th>1990-01</th>\n",
              "      <td>-7.49</td>\n",
              "      <td>-5.60</td>\n",
              "      <td>-8.56</td>\n",
              "      <td>-7.36</td>\n",
              "      <td>-8.87</td>\n",
              "    </tr>\n",
              "    <tr>\n",
              "      <th>1990-02</th>\n",
              "      <td>1.35</td>\n",
              "      <td>2.16</td>\n",
              "      <td>1.57</td>\n",
              "      <td>-2.06</td>\n",
              "      <td>2.52</td>\n",
              "    </tr>\n",
              "    <tr>\n",
              "      <th>1990-03</th>\n",
              "      <td>4.51</td>\n",
              "      <td>1.72</td>\n",
              "      <td>4.30</td>\n",
              "      <td>3.85</td>\n",
              "      <td>-0.26</td>\n",
              "    </tr>\n",
              "    <tr>\n",
              "      <th>1990-04</th>\n",
              "      <td>-1.55</td>\n",
              "      <td>-3.54</td>\n",
              "      <td>-2.81</td>\n",
              "      <td>0.29</td>\n",
              "      <td>-3.46</td>\n",
              "    </tr>\n",
              "    <tr>\n",
              "      <th>1990-05</th>\n",
              "      <td>9.87</td>\n",
              "      <td>7.00</td>\n",
              "      <td>10.79</td>\n",
              "      <td>12.77</td>\n",
              "      <td>9.10</td>\n",
              "    </tr>\n",
              "  </tbody>\n",
              "</table>\n",
              "</div>\n",
              "      <button class=\"colab-df-convert\" onclick=\"convertToInteractive('df-cdbefde2-4cd8-435c-9efd-2fb405731571')\"\n",
              "              title=\"Convert this dataframe to an interactive table.\"\n",
              "              style=\"display:none;\">\n",
              "        \n",
              "  <svg xmlns=\"http://www.w3.org/2000/svg\" height=\"24px\"viewBox=\"0 0 24 24\"\n",
              "       width=\"24px\">\n",
              "    <path d=\"M0 0h24v24H0V0z\" fill=\"none\"/>\n",
              "    <path d=\"M18.56 5.44l.94 2.06.94-2.06 2.06-.94-2.06-.94-.94-2.06-.94 2.06-2.06.94zm-11 1L8.5 8.5l.94-2.06 2.06-.94-2.06-.94L8.5 2.5l-.94 2.06-2.06.94zm10 10l.94 2.06.94-2.06 2.06-.94-2.06-.94-.94-2.06-.94 2.06-2.06.94z\"/><path d=\"M17.41 7.96l-1.37-1.37c-.4-.4-.92-.59-1.43-.59-.52 0-1.04.2-1.43.59L10.3 9.45l-7.72 7.72c-.78.78-.78 2.05 0 2.83L4 21.41c.39.39.9.59 1.41.59.51 0 1.02-.2 1.41-.59l7.78-7.78 2.81-2.81c.8-.78.8-2.07 0-2.86zM5.41 20L4 18.59l7.72-7.72 1.47 1.35L5.41 20z\"/>\n",
              "  </svg>\n",
              "      </button>\n",
              "      \n",
              "  <style>\n",
              "    .colab-df-container {\n",
              "      display:flex;\n",
              "      flex-wrap:wrap;\n",
              "      gap: 12px;\n",
              "    }\n",
              "\n",
              "    .colab-df-convert {\n",
              "      background-color: #E8F0FE;\n",
              "      border: none;\n",
              "      border-radius: 50%;\n",
              "      cursor: pointer;\n",
              "      display: none;\n",
              "      fill: #1967D2;\n",
              "      height: 32px;\n",
              "      padding: 0 0 0 0;\n",
              "      width: 32px;\n",
              "    }\n",
              "\n",
              "    .colab-df-convert:hover {\n",
              "      background-color: #E2EBFA;\n",
              "      box-shadow: 0px 1px 2px rgba(60, 64, 67, 0.3), 0px 1px 3px 1px rgba(60, 64, 67, 0.15);\n",
              "      fill: #174EA6;\n",
              "    }\n",
              "\n",
              "    [theme=dark] .colab-df-convert {\n",
              "      background-color: #3B4455;\n",
              "      fill: #D2E3FC;\n",
              "    }\n",
              "\n",
              "    [theme=dark] .colab-df-convert:hover {\n",
              "      background-color: #434B5C;\n",
              "      box-shadow: 0px 1px 3px 1px rgba(0, 0, 0, 0.15);\n",
              "      filter: drop-shadow(0px 1px 2px rgba(0, 0, 0, 0.3));\n",
              "      fill: #FFFFFF;\n",
              "    }\n",
              "  </style>\n",
              "\n",
              "      <script>\n",
              "        const buttonEl =\n",
              "          document.querySelector('#df-cdbefde2-4cd8-435c-9efd-2fb405731571 button.colab-df-convert');\n",
              "        buttonEl.style.display =\n",
              "          google.colab.kernel.accessAllowed ? 'block' : 'none';\n",
              "\n",
              "        async function convertToInteractive(key) {\n",
              "          const element = document.querySelector('#df-cdbefde2-4cd8-435c-9efd-2fb405731571');\n",
              "          const dataTable =\n",
              "            await google.colab.kernel.invokeFunction('convertToInteractive',\n",
              "                                                     [key], {});\n",
              "          if (!dataTable) return;\n",
              "\n",
              "          const docLinkHtml = 'Like what you see? Visit the ' +\n",
              "            '<a target=\"_blank\" href=https://colab.research.google.com/notebooks/data_table.ipynb>data table notebook</a>'\n",
              "            + ' to learn more about interactive tables.';\n",
              "          element.innerHTML = '';\n",
              "          dataTable['output_type'] = 'display_data';\n",
              "          await google.colab.output.renderOutput(dataTable, element);\n",
              "          const docLink = document.createElement('div');\n",
              "          docLink.innerHTML = docLinkHtml;\n",
              "          element.appendChild(docLink);\n",
              "        }\n",
              "      </script>\n",
              "    </div>\n",
              "  </div>\n",
              "  "
            ]
          },
          "metadata": {},
          "execution_count": 36
        }
      ]
    },
    {
      "cell_type": "code",
      "source": [
        "ind5_ret = ind5[0]/100\n",
        "ind5_ret.head()"
      ],
      "metadata": {
        "colab": {
          "base_uri": "https://localhost:8080/",
          "height": 235
        },
        "id": "FD0RBtaZzEOE",
        "outputId": "f6e5b164-08a5-4b48-835d-32895f226ac0"
      },
      "execution_count": 37,
      "outputs": [
        {
          "output_type": "execute_result",
          "data": {
            "text/plain": [
              "          Cnsmr   Manuf   HiTec   Hlth    Other\n",
              "Date                                           \n",
              "1990-01 -0.0749 -0.0560 -0.0856 -0.0736 -0.0887\n",
              "1990-02  0.0135  0.0216  0.0157 -0.0206  0.0252\n",
              "1990-03  0.0451  0.0172  0.0430  0.0385 -0.0026\n",
              "1990-04 -0.0155 -0.0354 -0.0281  0.0029 -0.0346\n",
              "1990-05  0.0987  0.0700  0.1079  0.1277  0.0910"
            ],
            "text/html": [
              "\n",
              "  <div id=\"df-6ed30b9b-a46d-4b8e-97f3-71b1e66b522d\">\n",
              "    <div class=\"colab-df-container\">\n",
              "      <div>\n",
              "<style scoped>\n",
              "    .dataframe tbody tr th:only-of-type {\n",
              "        vertical-align: middle;\n",
              "    }\n",
              "\n",
              "    .dataframe tbody tr th {\n",
              "        vertical-align: top;\n",
              "    }\n",
              "\n",
              "    .dataframe thead th {\n",
              "        text-align: right;\n",
              "    }\n",
              "</style>\n",
              "<table border=\"1\" class=\"dataframe\">\n",
              "  <thead>\n",
              "    <tr style=\"text-align: right;\">\n",
              "      <th></th>\n",
              "      <th>Cnsmr</th>\n",
              "      <th>Manuf</th>\n",
              "      <th>HiTec</th>\n",
              "      <th>Hlth</th>\n",
              "      <th>Other</th>\n",
              "    </tr>\n",
              "    <tr>\n",
              "      <th>Date</th>\n",
              "      <th></th>\n",
              "      <th></th>\n",
              "      <th></th>\n",
              "      <th></th>\n",
              "      <th></th>\n",
              "    </tr>\n",
              "  </thead>\n",
              "  <tbody>\n",
              "    <tr>\n",
              "      <th>1990-01</th>\n",
              "      <td>-0.0749</td>\n",
              "      <td>-0.0560</td>\n",
              "      <td>-0.0856</td>\n",
              "      <td>-0.0736</td>\n",
              "      <td>-0.0887</td>\n",
              "    </tr>\n",
              "    <tr>\n",
              "      <th>1990-02</th>\n",
              "      <td>0.0135</td>\n",
              "      <td>0.0216</td>\n",
              "      <td>0.0157</td>\n",
              "      <td>-0.0206</td>\n",
              "      <td>0.0252</td>\n",
              "    </tr>\n",
              "    <tr>\n",
              "      <th>1990-03</th>\n",
              "      <td>0.0451</td>\n",
              "      <td>0.0172</td>\n",
              "      <td>0.0430</td>\n",
              "      <td>0.0385</td>\n",
              "      <td>-0.0026</td>\n",
              "    </tr>\n",
              "    <tr>\n",
              "      <th>1990-04</th>\n",
              "      <td>-0.0155</td>\n",
              "      <td>-0.0354</td>\n",
              "      <td>-0.0281</td>\n",
              "      <td>0.0029</td>\n",
              "      <td>-0.0346</td>\n",
              "    </tr>\n",
              "    <tr>\n",
              "      <th>1990-05</th>\n",
              "      <td>0.0987</td>\n",
              "      <td>0.0700</td>\n",
              "      <td>0.1079</td>\n",
              "      <td>0.1277</td>\n",
              "      <td>0.0910</td>\n",
              "    </tr>\n",
              "  </tbody>\n",
              "</table>\n",
              "</div>\n",
              "      <button class=\"colab-df-convert\" onclick=\"convertToInteractive('df-6ed30b9b-a46d-4b8e-97f3-71b1e66b522d')\"\n",
              "              title=\"Convert this dataframe to an interactive table.\"\n",
              "              style=\"display:none;\">\n",
              "        \n",
              "  <svg xmlns=\"http://www.w3.org/2000/svg\" height=\"24px\"viewBox=\"0 0 24 24\"\n",
              "       width=\"24px\">\n",
              "    <path d=\"M0 0h24v24H0V0z\" fill=\"none\"/>\n",
              "    <path d=\"M18.56 5.44l.94 2.06.94-2.06 2.06-.94-2.06-.94-.94-2.06-.94 2.06-2.06.94zm-11 1L8.5 8.5l.94-2.06 2.06-.94-2.06-.94L8.5 2.5l-.94 2.06-2.06.94zm10 10l.94 2.06.94-2.06 2.06-.94-2.06-.94-.94-2.06-.94 2.06-2.06.94z\"/><path d=\"M17.41 7.96l-1.37-1.37c-.4-.4-.92-.59-1.43-.59-.52 0-1.04.2-1.43.59L10.3 9.45l-7.72 7.72c-.78.78-.78 2.05 0 2.83L4 21.41c.39.39.9.59 1.41.59.51 0 1.02-.2 1.41-.59l7.78-7.78 2.81-2.81c.8-.78.8-2.07 0-2.86zM5.41 20L4 18.59l7.72-7.72 1.47 1.35L5.41 20z\"/>\n",
              "  </svg>\n",
              "      </button>\n",
              "      \n",
              "  <style>\n",
              "    .colab-df-container {\n",
              "      display:flex;\n",
              "      flex-wrap:wrap;\n",
              "      gap: 12px;\n",
              "    }\n",
              "\n",
              "    .colab-df-convert {\n",
              "      background-color: #E8F0FE;\n",
              "      border: none;\n",
              "      border-radius: 50%;\n",
              "      cursor: pointer;\n",
              "      display: none;\n",
              "      fill: #1967D2;\n",
              "      height: 32px;\n",
              "      padding: 0 0 0 0;\n",
              "      width: 32px;\n",
              "    }\n",
              "\n",
              "    .colab-df-convert:hover {\n",
              "      background-color: #E2EBFA;\n",
              "      box-shadow: 0px 1px 2px rgba(60, 64, 67, 0.3), 0px 1px 3px 1px rgba(60, 64, 67, 0.15);\n",
              "      fill: #174EA6;\n",
              "    }\n",
              "\n",
              "    [theme=dark] .colab-df-convert {\n",
              "      background-color: #3B4455;\n",
              "      fill: #D2E3FC;\n",
              "    }\n",
              "\n",
              "    [theme=dark] .colab-df-convert:hover {\n",
              "      background-color: #434B5C;\n",
              "      box-shadow: 0px 1px 3px 1px rgba(0, 0, 0, 0.15);\n",
              "      filter: drop-shadow(0px 1px 2px rgba(0, 0, 0, 0.3));\n",
              "      fill: #FFFFFF;\n",
              "    }\n",
              "  </style>\n",
              "\n",
              "      <script>\n",
              "        const buttonEl =\n",
              "          document.querySelector('#df-6ed30b9b-a46d-4b8e-97f3-71b1e66b522d button.colab-df-convert');\n",
              "        buttonEl.style.display =\n",
              "          google.colab.kernel.accessAllowed ? 'block' : 'none';\n",
              "\n",
              "        async function convertToInteractive(key) {\n",
              "          const element = document.querySelector('#df-6ed30b9b-a46d-4b8e-97f3-71b1e66b522d');\n",
              "          const dataTable =\n",
              "            await google.colab.kernel.invokeFunction('convertToInteractive',\n",
              "                                                     [key], {});\n",
              "          if (!dataTable) return;\n",
              "\n",
              "          const docLinkHtml = 'Like what you see? Visit the ' +\n",
              "            '<a target=\"_blank\" href=https://colab.research.google.com/notebooks/data_table.ipynb>data table notebook</a>'\n",
              "            + ' to learn more about interactive tables.';\n",
              "          element.innerHTML = '';\n",
              "          dataTable['output_type'] = 'display_data';\n",
              "          await google.colab.output.renderOutput(dataTable, element);\n",
              "          const docLink = document.createElement('div');\n",
              "          docLink.innerHTML = docLinkHtml;\n",
              "          element.appendChild(docLink);\n",
              "        }\n",
              "      </script>\n",
              "    </div>\n",
              "  </div>\n",
              "  "
            ]
          },
          "metadata": {},
          "execution_count": 37
        }
      ]
    },
    {
      "cell_type": "code",
      "source": [
        "ind5_ret.corr()"
      ],
      "metadata": {
        "colab": {
          "base_uri": "https://localhost:8080/",
          "height": 204
        },
        "id": "UhrhZinNzV8d",
        "outputId": "92554f2a-568a-4c80-ed7a-f80de1e67df8"
      },
      "execution_count": 38,
      "outputs": [
        {
          "output_type": "execute_result",
          "data": {
            "text/plain": [
              "          Cnsmr     Manuf     HiTec     Hlth      Other\n",
              "Cnsmr  1.000000  0.773350  0.706996  0.660408  0.851185\n",
              "Manuf  0.773350  1.000000  0.653943  0.574638  0.809202\n",
              "HiTec  0.706996  0.653943  1.000000  0.540132  0.694832\n",
              "Hlth   0.660408  0.574638  0.540132  1.000000  0.641547\n",
              "Other  0.851185  0.809202  0.694832  0.641547  1.000000"
            ],
            "text/html": [
              "\n",
              "  <div id=\"df-ad11730b-69bf-42be-8346-713e2df67da3\">\n",
              "    <div class=\"colab-df-container\">\n",
              "      <div>\n",
              "<style scoped>\n",
              "    .dataframe tbody tr th:only-of-type {\n",
              "        vertical-align: middle;\n",
              "    }\n",
              "\n",
              "    .dataframe tbody tr th {\n",
              "        vertical-align: top;\n",
              "    }\n",
              "\n",
              "    .dataframe thead th {\n",
              "        text-align: right;\n",
              "    }\n",
              "</style>\n",
              "<table border=\"1\" class=\"dataframe\">\n",
              "  <thead>\n",
              "    <tr style=\"text-align: right;\">\n",
              "      <th></th>\n",
              "      <th>Cnsmr</th>\n",
              "      <th>Manuf</th>\n",
              "      <th>HiTec</th>\n",
              "      <th>Hlth</th>\n",
              "      <th>Other</th>\n",
              "    </tr>\n",
              "  </thead>\n",
              "  <tbody>\n",
              "    <tr>\n",
              "      <th>Cnsmr</th>\n",
              "      <td>1.000000</td>\n",
              "      <td>0.773350</td>\n",
              "      <td>0.706996</td>\n",
              "      <td>0.660408</td>\n",
              "      <td>0.851185</td>\n",
              "    </tr>\n",
              "    <tr>\n",
              "      <th>Manuf</th>\n",
              "      <td>0.773350</td>\n",
              "      <td>1.000000</td>\n",
              "      <td>0.653943</td>\n",
              "      <td>0.574638</td>\n",
              "      <td>0.809202</td>\n",
              "    </tr>\n",
              "    <tr>\n",
              "      <th>HiTec</th>\n",
              "      <td>0.706996</td>\n",
              "      <td>0.653943</td>\n",
              "      <td>1.000000</td>\n",
              "      <td>0.540132</td>\n",
              "      <td>0.694832</td>\n",
              "    </tr>\n",
              "    <tr>\n",
              "      <th>Hlth</th>\n",
              "      <td>0.660408</td>\n",
              "      <td>0.574638</td>\n",
              "      <td>0.540132</td>\n",
              "      <td>1.000000</td>\n",
              "      <td>0.641547</td>\n",
              "    </tr>\n",
              "    <tr>\n",
              "      <th>Other</th>\n",
              "      <td>0.851185</td>\n",
              "      <td>0.809202</td>\n",
              "      <td>0.694832</td>\n",
              "      <td>0.641547</td>\n",
              "      <td>1.000000</td>\n",
              "    </tr>\n",
              "  </tbody>\n",
              "</table>\n",
              "</div>\n",
              "      <button class=\"colab-df-convert\" onclick=\"convertToInteractive('df-ad11730b-69bf-42be-8346-713e2df67da3')\"\n",
              "              title=\"Convert this dataframe to an interactive table.\"\n",
              "              style=\"display:none;\">\n",
              "        \n",
              "  <svg xmlns=\"http://www.w3.org/2000/svg\" height=\"24px\"viewBox=\"0 0 24 24\"\n",
              "       width=\"24px\">\n",
              "    <path d=\"M0 0h24v24H0V0z\" fill=\"none\"/>\n",
              "    <path d=\"M18.56 5.44l.94 2.06.94-2.06 2.06-.94-2.06-.94-.94-2.06-.94 2.06-2.06.94zm-11 1L8.5 8.5l.94-2.06 2.06-.94-2.06-.94L8.5 2.5l-.94 2.06-2.06.94zm10 10l.94 2.06.94-2.06 2.06-.94-2.06-.94-.94-2.06-.94 2.06-2.06.94z\"/><path d=\"M17.41 7.96l-1.37-1.37c-.4-.4-.92-.59-1.43-.59-.52 0-1.04.2-1.43.59L10.3 9.45l-7.72 7.72c-.78.78-.78 2.05 0 2.83L4 21.41c.39.39.9.59 1.41.59.51 0 1.02-.2 1.41-.59l7.78-7.78 2.81-2.81c.8-.78.8-2.07 0-2.86zM5.41 20L4 18.59l7.72-7.72 1.47 1.35L5.41 20z\"/>\n",
              "  </svg>\n",
              "      </button>\n",
              "      \n",
              "  <style>\n",
              "    .colab-df-container {\n",
              "      display:flex;\n",
              "      flex-wrap:wrap;\n",
              "      gap: 12px;\n",
              "    }\n",
              "\n",
              "    .colab-df-convert {\n",
              "      background-color: #E8F0FE;\n",
              "      border: none;\n",
              "      border-radius: 50%;\n",
              "      cursor: pointer;\n",
              "      display: none;\n",
              "      fill: #1967D2;\n",
              "      height: 32px;\n",
              "      padding: 0 0 0 0;\n",
              "      width: 32px;\n",
              "    }\n",
              "\n",
              "    .colab-df-convert:hover {\n",
              "      background-color: #E2EBFA;\n",
              "      box-shadow: 0px 1px 2px rgba(60, 64, 67, 0.3), 0px 1px 3px 1px rgba(60, 64, 67, 0.15);\n",
              "      fill: #174EA6;\n",
              "    }\n",
              "\n",
              "    [theme=dark] .colab-df-convert {\n",
              "      background-color: #3B4455;\n",
              "      fill: #D2E3FC;\n",
              "    }\n",
              "\n",
              "    [theme=dark] .colab-df-convert:hover {\n",
              "      background-color: #434B5C;\n",
              "      box-shadow: 0px 1px 3px 1px rgba(0, 0, 0, 0.15);\n",
              "      filter: drop-shadow(0px 1px 2px rgba(0, 0, 0, 0.3));\n",
              "      fill: #FFFFFF;\n",
              "    }\n",
              "  </style>\n",
              "\n",
              "      <script>\n",
              "        const buttonEl =\n",
              "          document.querySelector('#df-ad11730b-69bf-42be-8346-713e2df67da3 button.colab-df-convert');\n",
              "        buttonEl.style.display =\n",
              "          google.colab.kernel.accessAllowed ? 'block' : 'none';\n",
              "\n",
              "        async function convertToInteractive(key) {\n",
              "          const element = document.querySelector('#df-ad11730b-69bf-42be-8346-713e2df67da3');\n",
              "          const dataTable =\n",
              "            await google.colab.kernel.invokeFunction('convertToInteractive',\n",
              "                                                     [key], {});\n",
              "          if (!dataTable) return;\n",
              "\n",
              "          const docLinkHtml = 'Like what you see? Visit the ' +\n",
              "            '<a target=\"_blank\" href=https://colab.research.google.com/notebooks/data_table.ipynb>data table notebook</a>'\n",
              "            + ' to learn more about interactive tables.';\n",
              "          element.innerHTML = '';\n",
              "          dataTable['output_type'] = 'display_data';\n",
              "          await google.colab.output.renderOutput(dataTable, element);\n",
              "          const docLink = document.createElement('div');\n",
              "          docLink.innerHTML = docLinkHtml;\n",
              "          element.appendChild(docLink);\n",
              "        }\n",
              "      </script>\n",
              "    </div>\n",
              "  </div>\n",
              "  "
            ]
          },
          "metadata": {},
          "execution_count": 38
        }
      ]
    },
    {
      "cell_type": "code",
      "source": [
        "plt.matshow(ind5_ret.corr())\n",
        "plt.colorbar()"
      ],
      "metadata": {
        "colab": {
          "base_uri": "https://localhost:8080/",
          "height": 275
        },
        "id": "KzlL7BXPzmUJ",
        "outputId": "c5339ad9-4b3b-4054-f37a-62646c48202f"
      },
      "execution_count": 45,
      "outputs": [
        {
          "output_type": "execute_result",
          "data": {
            "text/plain": [
              "<matplotlib.colorbar.Colorbar at 0x7f3d5f7c4ac0>"
            ]
          },
          "metadata": {},
          "execution_count": 45
        },
        {
          "output_type": "display_data",
          "data": {
            "text/plain": [
              "<Figure size 288x288 with 2 Axes>"
            ],
            "image/png": "[encoded data removed]"
          },
          "metadata": {
            "needs_background": "light"
          }
        }
      ]
    },
    {
      "cell_type": "code",
      "source": [
        "# annot: 수치 포함 여부\n",
        "\n",
        "sns.heatmap(ind5_ret.corr(), annot=True)"
      ],
      "metadata": {
        "colab": {
          "base_uri": "https://localhost:8080/",
          "height": 286
        },
        "id": "22rf0s9k0BEF",
        "outputId": "187719a7-3100-4b91-f346-def220ea7883"
      },
      "execution_count": 46,
      "outputs": [
        {
          "output_type": "execute_result",
          "data": {
            "text/plain": [
              "<AxesSubplot:>"
            ]
          },
          "metadata": {},
          "execution_count": 46
        },
        {
          "output_type": "display_data",
          "data": {
            "text/plain": [
              "<Figure size 432x288 with 2 Axes>"
            ],
            "image/png": "[encoded data removed]"
          },
          "metadata": {
            "needs_background": "light"
          }
        }
      ]
    },
    {
      "cell_type": "code",
      "source": [
        "# 2008 금융 위기 때의 상관관계\n",
        "# 장의 변동성이 증가하면 자산간의 상관관계가 증가한다\n",
        "\n",
        "crisis1 = ind5_ret.loc['2007-01':'2008-12']\n",
        "sns.heatmap(crisis1.corr(), annot=True)"
      ],
      "metadata": {
        "colab": {
          "base_uri": "https://localhost:8080/",
          "height": 286
        },
        "id": "d9Nm1KPP0J1z",
        "outputId": "11e2d2b1-34b6-428d-f426-9a7bacf9596e"
      },
      "execution_count": 48,
      "outputs": [
        {
          "output_type": "execute_result",
          "data": {
            "text/plain": [
              "<AxesSubplot:>"
            ]
          },
          "metadata": {},
          "execution_count": 48
        },
        {
          "output_type": "display_data",
          "data": {
            "text/plain": [
              "<Figure size 432x288 with 2 Axes>"
            ],
            "image/png": "[encoded data removed]"
          },
          "metadata": {
            "needs_background": "light"
          }
        }
      ]
    },
    {
      "cell_type": "code",
      "source": [
        "crisis2 = ind5_ret.loc['2020-01':'2020-09']\n",
        "sns.heatmap(crisis2.corr(), annot=True)"
      ],
      "metadata": {
        "colab": {
          "base_uri": "https://localhost:8080/",
          "height": 286
        },
        "id": "DAjjLAaV0zZp",
        "outputId": "cd627ff2-d9c4-4bc1-d9b9-1a3e243994c1"
      },
      "execution_count": 49,
      "outputs": [
        {
          "output_type": "execute_result",
          "data": {
            "text/plain": [
              "<AxesSubplot:>"
            ]
          },
          "metadata": {},
          "execution_count": 49
        },
        {
          "output_type": "display_data",
          "data": {
            "text/plain": [
              "<Figure size 432x288 with 2 Axes>"
            ],
            "image/png": "[encoded data removed]"
          },
          "metadata": {
            "needs_background": "light"
          }
        }
      ]
    },
    {
      "cell_type": "markdown",
      "source": [
        "### **10-Industry Correlation**"
      ],
      "metadata": {
        "id": "XrE6cHnG0-VX"
      }
    },
    {
      "cell_type": "code",
      "source": [
        "ind10 = pdr.DataReader('10_Industry_Portfolios', 'famafrench', start='1990-01-01', end='2020-09-01')\n",
        "ind10[0].head()"
      ],
      "metadata": {
        "colab": {
          "base_uri": "https://localhost:8080/",
          "height": 235
        },
        "id": "VHwlS8Yc0_Ya",
        "outputId": "8663ef1d-632a-485c-efd0-8529a85b5271"
      },
      "execution_count": 50,
      "outputs": [
        {
          "output_type": "execute_result",
          "data": {
            "text/plain": [
              "         NoDur  Durbl  Manuf  Enrgy  HiTec  Telcm  Shops  Hlth   Utils  Other\n",
              "Date                                                                         \n",
              "1990-01  -9.43  -3.84  -6.33  -4.30  -1.28 -13.39  -6.43  -7.36  -5.35  -8.87\n",
              "1990-02  -0.39   5.13   2.56   3.10   4.11  -0.35   1.99  -2.06   0.21   2.52\n",
              "1990-03   4.54   2.90   3.92  -0.57   4.46   4.18   5.11   3.85  -0.75  -0.26\n",
              "1990-04  -0.27  -4.04  -2.73  -3.54  -2.00  -3.46  -2.10   0.29  -5.51  -3.46\n",
              "1990-05   9.04   7.76   8.08   6.03  12.54   9.38  11.65  12.77   5.43   9.10"
            ],
            "text/html": [
              "\n",
              "  <div id=\"df-df1fecde-2914-4c0d-b3c0-8d46f8412782\">\n",
              "    <div class=\"colab-df-container\">\n",
              "      <div>\n",
              "<style scoped>\n",
              "    .dataframe tbody tr th:only-of-type {\n",
              "        vertical-align: middle;\n",
              "    }\n",
              "\n",
              "    .dataframe tbody tr th {\n",
              "        vertical-align: top;\n",
              "    }\n",
              "\n",
              "    .dataframe thead th {\n",
              "        text-align: right;\n",
              "    }\n",
              "</style>\n",
              "<table border=\"1\" class=\"dataframe\">\n",
              "  <thead>\n",
              "    <tr style=\"text-align: right;\">\n",
              "      <th></th>\n",
              "      <th>NoDur</th>\n",
              "      <th>Durbl</th>\n",
              "      <th>Manuf</th>\n",
              "      <th>Enrgy</th>\n",
              "      <th>HiTec</th>\n",
              "      <th>Telcm</th>\n",
              "      <th>Shops</th>\n",
              "      <th>Hlth</th>\n",
              "      <th>Utils</th>\n",
              "      <th>Other</th>\n",
              "    </tr>\n",
              "    <tr>\n",
              "      <th>Date</th>\n",
              "      <th></th>\n",
              "      <th></th>\n",
              "      <th></th>\n",
              "      <th></th>\n",
              "      <th></th>\n",
              "      <th></th>\n",
              "      <th></th>\n",
              "      <th></th>\n",
              "      <th></th>\n",
              "      <th></th>\n",
              "    </tr>\n",
              "  </thead>\n",
              "  <tbody>\n",
              "    <tr>\n",
              "      <th>1990-01</th>\n",
              "      <td>-9.43</td>\n",
              "      <td>-3.84</td>\n",
              "      <td>-6.33</td>\n",
              "      <td>-4.30</td>\n",
              "      <td>-1.28</td>\n",
              "      <td>-13.39</td>\n",
              "      <td>-6.43</td>\n",
              "      <td>-7.36</td>\n",
              "      <td>-5.35</td>\n",
              "      <td>-8.87</td>\n",
              "    </tr>\n",
              "    <tr>\n",
              "      <th>1990-02</th>\n",
              "      <td>-0.39</td>\n",
              "      <td>5.13</td>\n",
              "      <td>2.56</td>\n",
              "      <td>3.10</td>\n",
              "      <td>4.11</td>\n",
              "      <td>-0.35</td>\n",
              "      <td>1.99</td>\n",
              "      <td>-2.06</td>\n",
              "      <td>0.21</td>\n",
              "      <td>2.52</td>\n",
              "    </tr>\n",
              "    <tr>\n",
              "      <th>1990-03</th>\n",
              "      <td>4.54</td>\n",
              "      <td>2.90</td>\n",
              "      <td>3.92</td>\n",
              "      <td>-0.57</td>\n",
              "      <td>4.46</td>\n",
              "      <td>4.18</td>\n",
              "      <td>5.11</td>\n",
              "      <td>3.85</td>\n",
              "      <td>-0.75</td>\n",
              "      <td>-0.26</td>\n",
              "    </tr>\n",
              "    <tr>\n",
              "      <th>1990-04</th>\n",
              "      <td>-0.27</td>\n",
              "      <td>-4.04</td>\n",
              "      <td>-2.73</td>\n",
              "      <td>-3.54</td>\n",
              "      <td>-2.00</td>\n",
              "      <td>-3.46</td>\n",
              "      <td>-2.10</td>\n",
              "      <td>0.29</td>\n",
              "      <td>-5.51</td>\n",
              "      <td>-3.46</td>\n",
              "    </tr>\n",
              "    <tr>\n",
              "      <th>1990-05</th>\n",
              "      <td>9.04</td>\n",
              "      <td>7.76</td>\n",
              "      <td>8.08</td>\n",
              "      <td>6.03</td>\n",
              "      <td>12.54</td>\n",
              "      <td>9.38</td>\n",
              "      <td>11.65</td>\n",
              "      <td>12.77</td>\n",
              "      <td>5.43</td>\n",
              "      <td>9.10</td>\n",
              "    </tr>\n",
              "  </tbody>\n",
              "</table>\n",
              "</div>\n",
              "      <button class=\"colab-df-convert\" onclick=\"convertToInteractive('df-df1fecde-2914-4c0d-b3c0-8d46f8412782')\"\n",
              "              title=\"Convert this dataframe to an interactive table.\"\n",
              "              style=\"display:none;\">\n",
              "        \n",
              "  <svg xmlns=\"http://www.w3.org/2000/svg\" height=\"24px\"viewBox=\"0 0 24 24\"\n",
              "       width=\"24px\">\n",
              "    <path d=\"M0 0h24v24H0V0z\" fill=\"none\"/>\n",
              "    <path d=\"M18.56 5.44l.94 2.06.94-2.06 2.06-.94-2.06-.94-.94-2.06-.94 2.06-2.06.94zm-11 1L8.5 8.5l.94-2.06 2.06-.94-2.06-.94L8.5 2.5l-.94 2.06-2.06.94zm10 10l.94 2.06.94-2.06 2.06-.94-2.06-.94-.94-2.06-.94 2.06-2.06.94z\"/><path d=\"M17.41 7.96l-1.37-1.37c-.4-.4-.92-.59-1.43-.59-.52 0-1.04.2-1.43.59L10.3 9.45l-7.72 7.72c-.78.78-.78 2.05 0 2.83L4 21.41c.39.39.9.59 1.41.59.51 0 1.02-.2 1.41-.59l7.78-7.78 2.81-2.81c.8-.78.8-2.07 0-2.86zM5.41 20L4 18.59l7.72-7.72 1.47 1.35L5.41 20z\"/>\n",
              "  </svg>\n",
              "      </button>\n",
              "      \n",
              "  <style>\n",
              "    .colab-df-container {\n",
              "      display:flex;\n",
              "      flex-wrap:wrap;\n",
              "      gap: 12px;\n",
              "    }\n",
              "\n",
              "    .colab-df-convert {\n",
              "      background-color: #E8F0FE;\n",
              "      border: none;\n",
              "      border-radius: 50%;\n",
              "      cursor: pointer;\n",
              "      display: none;\n",
              "      fill: #1967D2;\n",
              "      height: 32px;\n",
              "      padding: 0 0 0 0;\n",
              "      width: 32px;\n",
              "    }\n",
              "\n",
              "    .colab-df-convert:hover {\n",
              "      background-color: #E2EBFA;\n",
              "      box-shadow: 0px 1px 2px rgba(60, 64, 67, 0.3), 0px 1px 3px 1px rgba(60, 64, 67, 0.15);\n",
              "      fill: #174EA6;\n",
              "    }\n",
              "\n",
              "    [theme=dark] .colab-df-convert {\n",
              "      background-color: #3B4455;\n",
              "      fill: #D2E3FC;\n",
              "    }\n",
              "\n",
              "    [theme=dark] .colab-df-convert:hover {\n",
              "      background-color: #434B5C;\n",
              "      box-shadow: 0px 1px 3px 1px rgba(0, 0, 0, 0.15);\n",
              "      filter: drop-shadow(0px 1px 2px rgba(0, 0, 0, 0.3));\n",
              "      fill: #FFFFFF;\n",
              "    }\n",
              "  </style>\n",
              "\n",
              "      <script>\n",
              "        const buttonEl =\n",
              "          document.querySelector('#df-df1fecde-2914-4c0d-b3c0-8d46f8412782 button.colab-df-convert');\n",
              "        buttonEl.style.display =\n",
              "          google.colab.kernel.accessAllowed ? 'block' : 'none';\n",
              "\n",
              "        async function convertToInteractive(key) {\n",
              "          const element = document.querySelector('#df-df1fecde-2914-4c0d-b3c0-8d46f8412782');\n",
              "          const dataTable =\n",
              "            await google.colab.kernel.invokeFunction('convertToInteractive',\n",
              "                                                     [key], {});\n",
              "          if (!dataTable) return;\n",
              "\n",
              "          const docLinkHtml = 'Like what you see? Visit the ' +\n",
              "            '<a target=\"_blank\" href=https://colab.research.google.com/notebooks/data_table.ipynb>data table notebook</a>'\n",
              "            + ' to learn more about interactive tables.';\n",
              "          element.innerHTML = '';\n",
              "          dataTable['output_type'] = 'display_data';\n",
              "          await google.colab.output.renderOutput(dataTable, element);\n",
              "          const docLink = document.createElement('div');\n",
              "          docLink.innerHTML = docLinkHtml;\n",
              "          element.appendChild(docLink);\n",
              "        }\n",
              "      </script>\n",
              "    </div>\n",
              "  </div>\n",
              "  "
            ]
          },
          "metadata": {},
          "execution_count": 50
        }
      ]
    },
    {
      "cell_type": "code",
      "source": [
        "ind10_ret = ind10[0]/100\n",
        "ind10_ret.head()"
      ],
      "metadata": {
        "colab": {
          "base_uri": "https://localhost:8080/",
          "height": 384
        },
        "id": "U9IqlT2n1DQP",
        "outputId": "c32a801d-bb82-4fb6-c812-c0dee1c2822e"
      },
      "execution_count": 51,
      "outputs": [
        {
          "output_type": "execute_result",
          "data": {
            "text/plain": [
              "          NoDur   Durbl   Manuf   Enrgy   HiTec   Telcm   Shops   Hlth   \\\n",
              "Date                                                                      \n",
              "1990-01 -0.0943 -0.0384 -0.0633 -0.0430 -0.0128 -0.1339 -0.0643 -0.0736   \n",
              "1990-02 -0.0039  0.0513  0.0256  0.0310  0.0411 -0.0035  0.0199 -0.0206   \n",
              "1990-03  0.0454  0.0290  0.0392 -0.0057  0.0446  0.0418  0.0511  0.0385   \n",
              "1990-04 -0.0027 -0.0404 -0.0273 -0.0354 -0.0200 -0.0346 -0.0210  0.0029   \n",
              "1990-05  0.0904  0.0776  0.0808  0.0603  0.1254  0.0938  0.1165  0.1277   \n",
              "\n",
              "          Utils   Other  \n",
              "Date                     \n",
              "1990-01 -0.0535 -0.0887  \n",
              "1990-02  0.0021  0.0252  \n",
              "1990-03 -0.0075 -0.0026  \n",
              "1990-04 -0.0551 -0.0346  \n",
              "1990-05  0.0543  0.0910  "
            ],
            "text/html": [
              "\n",
              "  <div id=\"df-c7de97e5-20c6-470e-832b-dd6f5750ab4c\">\n",
              "    <div class=\"colab-df-container\">\n",
              "      <div>\n",
              "<style scoped>\n",
              "    .dataframe tbody tr th:only-of-type {\n",
              "        vertical-align: middle;\n",
              "    }\n",
              "\n",
              "    .dataframe tbody tr th {\n",
              "        vertical-align: top;\n",
              "    }\n",
              "\n",
              "    .dataframe thead th {\n",
              "        text-align: right;\n",
              "    }\n",
              "</style>\n",
              "<table border=\"1\" class=\"dataframe\">\n",
              "  <thead>\n",
              "    <tr style=\"text-align: right;\">\n",
              "      <th></th>\n",
              "      <th>NoDur</th>\n",
              "      <th>Durbl</th>\n",
              "      <th>Manuf</th>\n",
              "      <th>Enrgy</th>\n",
              "      <th>HiTec</th>\n",
              "      <th>Telcm</th>\n",
              "      <th>Shops</th>\n",
              "      <th>Hlth</th>\n",
              "      <th>Utils</th>\n",
              "      <th>Other</th>\n",
              "    </tr>\n",
              "    <tr>\n",
              "      <th>Date</th>\n",
              "      <th></th>\n",
              "      <th></th>\n",
              "      <th></th>\n",
              "      <th></th>\n",
              "      <th></th>\n",
              "      <th></th>\n",
              "      <th></th>\n",
              "      <th></th>\n",
              "      <th></th>\n",
              "      <th></th>\n",
              "    </tr>\n",
              "  </thead>\n",
              "  <tbody>\n",
              "    <tr>\n",
              "      <th>1990-01</th>\n",
              "      <td>-0.0943</td>\n",
              "      <td>-0.0384</td>\n",
              "      <td>-0.0633</td>\n",
              "      <td>-0.0430</td>\n",
              "      <td>-0.0128</td>\n",
              "      <td>-0.1339</td>\n",
              "      <td>-0.0643</td>\n",
              "      <td>-0.0736</td>\n",
              "      <td>-0.0535</td>\n",
              "      <td>-0.0887</td>\n",
              "    </tr>\n",
              "    <tr>\n",
              "      <th>1990-02</th>\n",
              "      <td>-0.0039</td>\n",
              "      <td>0.0513</td>\n",
              "      <td>0.0256</td>\n",
              "      <td>0.0310</td>\n",
              "      <td>0.0411</td>\n",
              "      <td>-0.0035</td>\n",
              "      <td>0.0199</td>\n",
              "      <td>-0.0206</td>\n",
              "      <td>0.0021</td>\n",
              "      <td>0.0252</td>\n",
              "    </tr>\n",
              "    <tr>\n",
              "      <th>1990-03</th>\n",
              "      <td>0.0454</td>\n",
              "      <td>0.0290</td>\n",
              "      <td>0.0392</td>\n",
              "      <td>-0.0057</td>\n",
              "      <td>0.0446</td>\n",
              "      <td>0.0418</td>\n",
              "      <td>0.0511</td>\n",
              "      <td>0.0385</td>\n",
              "      <td>-0.0075</td>\n",
              "      <td>-0.0026</td>\n",
              "    </tr>\n",
              "    <tr>\n",
              "      <th>1990-04</th>\n",
              "      <td>-0.0027</td>\n",
              "      <td>-0.0404</td>\n",
              "      <td>-0.0273</td>\n",
              "      <td>-0.0354</td>\n",
              "      <td>-0.0200</td>\n",
              "      <td>-0.0346</td>\n",
              "      <td>-0.0210</td>\n",
              "      <td>0.0029</td>\n",
              "      <td>-0.0551</td>\n",
              "      <td>-0.0346</td>\n",
              "    </tr>\n",
              "    <tr>\n",
              "      <th>1990-05</th>\n",
              "      <td>0.0904</td>\n",
              "      <td>0.0776</td>\n",
              "      <td>0.0808</td>\n",
              "      <td>0.0603</td>\n",
              "      <td>0.1254</td>\n",
              "      <td>0.0938</td>\n",
              "      <td>0.1165</td>\n",
              "      <td>0.1277</td>\n",
              "      <td>0.0543</td>\n",
              "      <td>0.0910</td>\n",
              "    </tr>\n",
              "  </tbody>\n",
              "</table>\n",
              "</div>\n",
              "      <button class=\"colab-df-convert\" onclick=\"convertToInteractive('df-c7de97e5-20c6-470e-832b-dd6f5750ab4c')\"\n",
              "              title=\"Convert this dataframe to an interactive table.\"\n",
              "              style=\"display:none;\">\n",
              "        \n",
              "  <svg xmlns=\"http://www.w3.org/2000/svg\" height=\"24px\"viewBox=\"0 0 24 24\"\n",
              "       width=\"24px\">\n",
              "    <path d=\"M0 0h24v24H0V0z\" fill=\"none\"/>\n",
              "    <path d=\"M18.56 5.44l.94 2.06.94-2.06 2.06-.94-2.06-.94-.94-2.06-.94 2.06-2.06.94zm-11 1L8.5 8.5l.94-2.06 2.06-.94-2.06-.94L8.5 2.5l-.94 2.06-2.06.94zm10 10l.94 2.06.94-2.06 2.06-.94-2.06-.94-.94-2.06-.94 2.06-2.06.94z\"/><path d=\"M17.41 7.96l-1.37-1.37c-.4-.4-.92-.59-1.43-.59-.52 0-1.04.2-1.43.59L10.3 9.45l-7.72 7.72c-.78.78-.78 2.05 0 2.83L4 21.41c.39.39.9.59 1.41.59.51 0 1.02-.2 1.41-.59l7.78-7.78 2.81-2.81c.8-.78.8-2.07 0-2.86zM5.41 20L4 18.59l7.72-7.72 1.47 1.35L5.41 20z\"/>\n",
              "  </svg>\n",
              "      </button>\n",
              "      \n",
              "  <style>\n",
              "    .colab-df-container {\n",
              "      display:flex;\n",
              "      flex-wrap:wrap;\n",
              "      gap: 12px;\n",
              "    }\n",
              "\n",
              "    .colab-df-convert {\n",
              "      background-color: #E8F0FE;\n",
              "      border: none;\n",
              "      border-radius: 50%;\n",
              "      cursor: pointer;\n",
              "      display: none;\n",
              "      fill: #1967D2;\n",
              "      height: 32px;\n",
              "      padding: 0 0 0 0;\n",
              "      width: 32px;\n",
              "    }\n",
              "\n",
              "    .colab-df-convert:hover {\n",
              "      background-color: #E2EBFA;\n",
              "      box-shadow: 0px 1px 2px rgba(60, 64, 67, 0.3), 0px 1px 3px 1px rgba(60, 64, 67, 0.15);\n",
              "      fill: #174EA6;\n",
              "    }\n",
              "\n",
              "    [theme=dark] .colab-df-convert {\n",
              "      background-color: #3B4455;\n",
              "      fill: #D2E3FC;\n",
              "    }\n",
              "\n",
              "    [theme=dark] .colab-df-convert:hover {\n",
              "      background-color: #434B5C;\n",
              "      box-shadow: 0px 1px 3px 1px rgba(0, 0, 0, 0.15);\n",
              "      filter: drop-shadow(0px 1px 2px rgba(0, 0, 0, 0.3));\n",
              "      fill: #FFFFFF;\n",
              "    }\n",
              "  </style>\n",
              "\n",
              "      <script>\n",
              "        const buttonEl =\n",
              "          document.querySelector('#df-c7de97e5-20c6-470e-832b-dd6f5750ab4c button.colab-df-convert');\n",
              "        buttonEl.style.display =\n",
              "          google.colab.kernel.accessAllowed ? 'block' : 'none';\n",
              "\n",
              "        async function convertToInteractive(key) {\n",
              "          const element = document.querySelector('#df-c7de97e5-20c6-470e-832b-dd6f5750ab4c');\n",
              "          const dataTable =\n",
              "            await google.colab.kernel.invokeFunction('convertToInteractive',\n",
              "                                                     [key], {});\n",
              "          if (!dataTable) return;\n",
              "\n",
              "          const docLinkHtml = 'Like what you see? Visit the ' +\n",
              "            '<a target=\"_blank\" href=https://colab.research.google.com/notebooks/data_table.ipynb>data table notebook</a>'\n",
              "            + ' to learn more about interactive tables.';\n",
              "          element.innerHTML = '';\n",
              "          dataTable['output_type'] = 'display_data';\n",
              "          await google.colab.output.renderOutput(dataTable, element);\n",
              "          const docLink = document.createElement('div');\n",
              "          docLink.innerHTML = docLinkHtml;\n",
              "          element.appendChild(docLink);\n",
              "        }\n",
              "      </script>\n",
              "    </div>\n",
              "  </div>\n",
              "  "
            ]
          },
          "metadata": {},
          "execution_count": 51
        }
      ]
    },
    {
      "cell_type": "code",
      "source": [
        "sns.heatmap(ind10_ret.corr(), annot=True)"
      ],
      "metadata": {
        "colab": {
          "base_uri": "https://localhost:8080/",
          "height": 308
        },
        "id": "xW-Oa_ww1Rvb",
        "outputId": "76640e50-ad1e-48e0-dd57-ae780d62af78"
      },
      "execution_count": 52,
      "outputs": [
        {
          "output_type": "execute_result",
          "data": {
            "text/plain": [
              "<AxesSubplot:>"
            ]
          },
          "metadata": {},
          "execution_count": 52
        },
        {
          "output_type": "display_data",
          "data": {
            "text/plain": [
              "<Figure size 432x288 with 2 Axes>"
            ],
            "image/png": "[encoded data removed]"
          },
          "metadata": {
            "needs_background": "light"
          }
        }
      ]
    },
    {
      "cell_type": "code",
      "source": [
        "crisis3 = ind10_ret.loc['2007-01':'2008-12']\n",
        "sns.heatmap(crisis3.corr(), annot=True)"
      ],
      "metadata": {
        "colab": {
          "base_uri": "https://localhost:8080/",
          "height": 308
        },
        "id": "LAJslZe51doI",
        "outputId": "b1afb99c-a0b4-48bf-bd02-e83689b0aaad"
      },
      "execution_count": 53,
      "outputs": [
        {
          "output_type": "execute_result",
          "data": {
            "text/plain": [
              "<AxesSubplot:>"
            ]
          },
          "metadata": {},
          "execution_count": 53
        },
        {
          "output_type": "display_data",
          "data": {
            "text/plain": [
              "<Figure size 432x288 with 2 Axes>"
            ],
            "image/png": "[encoded data removed]"
          },
          "metadata": {
            "needs_background": "light"
          }
        }
      ]
    },
    {
      "cell_type": "code",
      "source": [
        "crisis4 = ind10_ret.loc['2020-01':'2020-09']\n",
        "sns.heatmap(crisis4.corr(), annot=True)"
      ],
      "metadata": {
        "colab": {
          "base_uri": "https://localhost:8080/",
          "height": 308
        },
        "id": "vAtpqwYt1dV5",
        "outputId": "183e6a4a-4fdc-43f3-f5a2-3bbe06932e96"
      },
      "execution_count": 54,
      "outputs": [
        {
          "output_type": "execute_result",
          "data": {
            "text/plain": [
              "<AxesSubplot:>"
            ]
          },
          "metadata": {},
          "execution_count": 54
        },
        {
          "output_type": "display_data",
          "data": {
            "text/plain": [
              "<Figure size 432x288 with 2 Axes>"
            ],
            "image/png": "[encoded data removed]"
          },
          "metadata": {
            "needs_background": "light"
          }
        }
      ]
    },
    {
      "cell_type": "markdown",
      "source": [
        "### **Volatility Measurement**"
      ],
      "metadata": {
        "id": "KUbaZIBp2ESF"
      }
    },
    {
      "cell_type": "code",
      "source": [
        "# VIX(Volatility Index): 변동성을 나타내는 index, fear index\n",
        "\n",
        "vix = web.get_data_yahoo('^VIX', start='2000-01-01', end='2020-09-01', progress=False)\n",
        "vix.head()"
      ],
      "metadata": {
        "colab": {
          "base_uri": "https://localhost:8080/",
          "height": 235
        },
        "id": "1uYIIVRB2Hnk",
        "outputId": "d628ac65-84cc-4612-e2ec-da5e867e7eac"
      },
      "execution_count": 57,
      "outputs": [
        {
          "output_type": "execute_result",
          "data": {
            "text/plain": [
              "                 Open       High        Low      Close  Adj Close  Volume\n",
              "Date                                                                     \n",
              "2000-01-03  24.360001  26.150000  23.980000  24.209999  24.209999       0\n",
              "2000-01-04  24.940001  27.180000  24.799999  27.010000  27.010000       0\n",
              "2000-01-05  27.980000  29.000000  25.850000  26.410000  26.410000       0\n",
              "2000-01-06  26.680000  26.709999  24.700001  25.730000  25.730000       0\n",
              "2000-01-07  25.139999  25.170000  21.719999  21.719999  21.719999       0"
            ],
            "text/html": [
              "\n",
              "  <div id=\"df-dfa0f103-cbd4-4d05-8624-55bb31487433\">\n",
              "    <div class=\"colab-df-container\">\n",
              "      <div>\n",
              "<style scoped>\n",
              "    .dataframe tbody tr th:only-of-type {\n",
              "        vertical-align: middle;\n",
              "    }\n",
              "\n",
              "    .dataframe tbody tr th {\n",
              "        vertical-align: top;\n",
              "    }\n",
              "\n",
              "    .dataframe thead th {\n",
              "        text-align: right;\n",
              "    }\n",
              "</style>\n",
              "<table border=\"1\" class=\"dataframe\">\n",
              "  <thead>\n",
              "    <tr style=\"text-align: right;\">\n",
              "      <th></th>\n",
              "      <th>Open</th>\n",
              "      <th>High</th>\n",
              "      <th>Low</th>\n",
              "      <th>Close</th>\n",
              "      <th>Adj Close</th>\n",
              "      <th>Volume</th>\n",
              "    </tr>\n",
              "    <tr>\n",
              "      <th>Date</th>\n",
              "      <th></th>\n",
              "      <th></th>\n",
              "      <th></th>\n",
              "      <th></th>\n",
              "      <th></th>\n",
              "      <th></th>\n",
              "    </tr>\n",
              "  </thead>\n",
              "  <tbody>\n",
              "    <tr>\n",
              "      <th>2000-01-03</th>\n",
              "      <td>24.360001</td>\n",
              "      <td>26.150000</td>\n",
              "      <td>23.980000</td>\n",
              "      <td>24.209999</td>\n",
              "      <td>24.209999</td>\n",
              "      <td>0</td>\n",
              "    </tr>\n",
              "    <tr>\n",
              "      <th>2000-01-04</th>\n",
              "      <td>24.940001</td>\n",
              "      <td>27.180000</td>\n",
              "      <td>24.799999</td>\n",
              "      <td>27.010000</td>\n",
              "      <td>27.010000</td>\n",
              "      <td>0</td>\n",
              "    </tr>\n",
              "    <tr>\n",
              "      <th>2000-01-05</th>\n",
              "      <td>27.980000</td>\n",
              "      <td>29.000000</td>\n",
              "      <td>25.850000</td>\n",
              "      <td>26.410000</td>\n",
              "      <td>26.410000</td>\n",
              "      <td>0</td>\n",
              "    </tr>\n",
              "    <tr>\n",
              "      <th>2000-01-06</th>\n",
              "      <td>26.680000</td>\n",
              "      <td>26.709999</td>\n",
              "      <td>24.700001</td>\n",
              "      <td>25.730000</td>\n",
              "      <td>25.730000</td>\n",
              "      <td>0</td>\n",
              "    </tr>\n",
              "    <tr>\n",
              "      <th>2000-01-07</th>\n",
              "      <td>25.139999</td>\n",
              "      <td>25.170000</td>\n",
              "      <td>21.719999</td>\n",
              "      <td>21.719999</td>\n",
              "      <td>21.719999</td>\n",
              "      <td>0</td>\n",
              "    </tr>\n",
              "  </tbody>\n",
              "</table>\n",
              "</div>\n",
              "      <button class=\"colab-df-convert\" onclick=\"convertToInteractive('df-dfa0f103-cbd4-4d05-8624-55bb31487433')\"\n",
              "              title=\"Convert this dataframe to an interactive table.\"\n",
              "              style=\"display:none;\">\n",
              "        \n",
              "  <svg xmlns=\"http://www.w3.org/2000/svg\" height=\"24px\"viewBox=\"0 0 24 24\"\n",
              "       width=\"24px\">\n",
              "    <path d=\"M0 0h24v24H0V0z\" fill=\"none\"/>\n",
              "    <path d=\"M18.56 5.44l.94 2.06.94-2.06 2.06-.94-2.06-.94-.94-2.06-.94 2.06-2.06.94zm-11 1L8.5 8.5l.94-2.06 2.06-.94-2.06-.94L8.5 2.5l-.94 2.06-2.06.94zm10 10l.94 2.06.94-2.06 2.06-.94-2.06-.94-.94-2.06-.94 2.06-2.06.94z\"/><path d=\"M17.41 7.96l-1.37-1.37c-.4-.4-.92-.59-1.43-.59-.52 0-1.04.2-1.43.59L10.3 9.45l-7.72 7.72c-.78.78-.78 2.05 0 2.83L4 21.41c.39.39.9.59 1.41.59.51 0 1.02-.2 1.41-.59l7.78-7.78 2.81-2.81c.8-.78.8-2.07 0-2.86zM5.41 20L4 18.59l7.72-7.72 1.47 1.35L5.41 20z\"/>\n",
              "  </svg>\n",
              "      </button>\n",
              "      \n",
              "  <style>\n",
              "    .colab-df-container {\n",
              "      display:flex;\n",
              "      flex-wrap:wrap;\n",
              "      gap: 12px;\n",
              "    }\n",
              "\n",
              "    .colab-df-convert {\n",
              "      background-color: #E8F0FE;\n",
              "      border: none;\n",
              "      border-radius: 50%;\n",
              "      cursor: pointer;\n",
              "      display: none;\n",
              "      fill: #1967D2;\n",
              "      height: 32px;\n",
              "      padding: 0 0 0 0;\n",
              "      width: 32px;\n",
              "    }\n",
              "\n",
              "    .colab-df-convert:hover {\n",
              "      background-color: #E2EBFA;\n",
              "      box-shadow: 0px 1px 2px rgba(60, 64, 67, 0.3), 0px 1px 3px 1px rgba(60, 64, 67, 0.15);\n",
              "      fill: #174EA6;\n",
              "    }\n",
              "\n",
              "    [theme=dark] .colab-df-convert {\n",
              "      background-color: #3B4455;\n",
              "      fill: #D2E3FC;\n",
              "    }\n",
              "\n",
              "    [theme=dark] .colab-df-convert:hover {\n",
              "      background-color: #434B5C;\n",
              "      box-shadow: 0px 1px 3px 1px rgba(0, 0, 0, 0.15);\n",
              "      filter: drop-shadow(0px 1px 2px rgba(0, 0, 0, 0.3));\n",
              "      fill: #FFFFFF;\n",
              "    }\n",
              "  </style>\n",
              "\n",
              "      <script>\n",
              "        const buttonEl =\n",
              "          document.querySelector('#df-dfa0f103-cbd4-4d05-8624-55bb31487433 button.colab-df-convert');\n",
              "        buttonEl.style.display =\n",
              "          google.colab.kernel.accessAllowed ? 'block' : 'none';\n",
              "\n",
              "        async function convertToInteractive(key) {\n",
              "          const element = document.querySelector('#df-dfa0f103-cbd4-4d05-8624-55bb31487433');\n",
              "          const dataTable =\n",
              "            await google.colab.kernel.invokeFunction('convertToInteractive',\n",
              "                                                     [key], {});\n",
              "          if (!dataTable) return;\n",
              "\n",
              "          const docLinkHtml = 'Like what you see? Visit the ' +\n",
              "            '<a target=\"_blank\" href=https://colab.research.google.com/notebooks/data_table.ipynb>data table notebook</a>'\n",
              "            + ' to learn more about interactive tables.';\n",
              "          element.innerHTML = '';\n",
              "          dataTable['output_type'] = 'display_data';\n",
              "          await google.colab.output.renderOutput(dataTable, element);\n",
              "          const docLink = document.createElement('div');\n",
              "          docLink.innerHTML = docLinkHtml;\n",
              "          element.appendChild(docLink);\n",
              "        }\n",
              "      </script>\n",
              "    </div>\n",
              "  </div>\n",
              "  "
            ]
          },
          "metadata": {},
          "execution_count": 57
        }
      ]
    },
    {
      "cell_type": "code",
      "source": [
        "# 변동성 EDA\n",
        "\n",
        "plt.figure(figsize=(10,5))\n",
        "plt.plot(vix.index, vix.Close)\n",
        "plt.grid()"
      ],
      "metadata": {
        "colab": {
          "base_uri": "https://localhost:8080/",
          "height": 320
        },
        "id": "Mm2rnDqB21_0",
        "outputId": "c2d1c4c3-332e-4397-fc86-cc615ca37964"
      },
      "execution_count": 58,
      "outputs": [
        {
          "output_type": "display_data",
          "data": {
            "text/plain": [
              "<Figure size 720x360 with 1 Axes>"
            ],
            "image/png": "[encoded data removed]"
          },
          "metadata": {
            "needs_background": "light"
          }
        }
      ]
    },
    {
      "cell_type": "markdown",
      "source": [
        "### **Trimmed mean**"
      ],
      "metadata": {
        "id": "Ix6L3giB3Vng"
      }
    },
    {
      "cell_type": "code",
      "source": [
        "# 주식 수익률이 skew되어있는데, trimmed mean을 계산하고 싶다.\n",
        "# 수익률을 가장 낮은 것부터 가장 큰 것까지 나열되어 있는데, outlier가 존재하는 경우에는 평균에\n",
        "# 영향을 많이 받기 때문에 outlier에 영향을 받지 않는 trimmed mean을 많이 사용한다.\n",
        "# 보통 양쪽 끝 n%를 빼고 구현한다.\n",
        "\n",
        "# 이번에는 개수로 해본다."
      ],
      "metadata": {
        "id": "Gq7aiuer3X8c"
      },
      "execution_count": null,
      "outputs": []
    },
    {
      "cell_type": "code",
      "source": [
        "wtw = web.get_data_yahoo('WTW', start='2022-01-01', end='2023-01-01', progress=False)\n",
        "wtw.head()"
      ],
      "metadata": {
        "colab": {
          "base_uri": "https://localhost:8080/",
          "height": 235
        },
        "id": "bgYEBT033-oV",
        "outputId": "8b31d150-8e90-4679-e331-aa49e51c446b"
      },
      "execution_count": 62,
      "outputs": [
        {
          "output_type": "execute_result",
          "data": {
            "text/plain": [
              "                  Open        High         Low       Close   Adj Close  \\\n",
              "Date                                                                     \n",
              "2022-01-03  237.279999  237.949997  234.199997  235.570007  232.092224   \n",
              "2022-01-04  232.610001  239.570007  232.610001  238.669998  235.146454   \n",
              "2022-01-05  239.429993  239.649994  236.240005  237.009995  233.510956   \n",
              "2022-01-06  236.360001  238.100006  234.220001  234.339996  230.880371   \n",
              "2022-01-07  233.050003  235.500000  231.259995  231.559998  228.141418   \n",
              "\n",
              "             Volume  \n",
              "Date                 \n",
              "2022-01-03   848600  \n",
              "2022-01-04   952100  \n",
              "2022-01-05  1070500  \n",
              "2022-01-06  1128100  \n",
              "2022-01-07  1233500  "
            ],
            "text/html": [
              "\n",
              "  <div id=\"df-ce8176d2-d5ca-46f2-89e6-ee39d594ea49\">\n",
              "    <div class=\"colab-df-container\">\n",
              "      <div>\n",
              "<style scoped>\n",
              "    .dataframe tbody tr th:only-of-type {\n",
              "        vertical-align: middle;\n",
              "    }\n",
              "\n",
              "    .dataframe tbody tr th {\n",
              "        vertical-align: top;\n",
              "    }\n",
              "\n",
              "    .dataframe thead th {\n",
              "        text-align: right;\n",
              "    }\n",
              "</style>\n",
              "<table border=\"1\" class=\"dataframe\">\n",
              "  <thead>\n",
              "    <tr style=\"text-align: right;\">\n",
              "      <th></th>\n",
              "      <th>Open</th>\n",
              "      <th>High</th>\n",
              "      <th>Low</th>\n",
              "      <th>Close</th>\n",
              "      <th>Adj Close</th>\n",
              "      <th>Volume</th>\n",
              "    </tr>\n",
              "    <tr>\n",
              "      <th>Date</th>\n",
              "      <th></th>\n",
              "      <th></th>\n",
              "      <th></th>\n",
              "      <th></th>\n",
              "      <th></th>\n",
              "      <th></th>\n",
              "    </tr>\n",
              "  </thead>\n",
              "  <tbody>\n",
              "    <tr>\n",
              "      <th>2022-01-03</th>\n",
              "      <td>237.279999</td>\n",
              "      <td>237.949997</td>\n",
              "      <td>234.199997</td>\n",
              "      <td>235.570007</td>\n",
              "      <td>232.092224</td>\n",
              "      <td>848600</td>\n",
              "    </tr>\n",
              "    <tr>\n",
              "      <th>2022-01-04</th>\n",
              "      <td>232.610001</td>\n",
              "      <td>239.570007</td>\n",
              "      <td>232.610001</td>\n",
              "      <td>238.669998</td>\n",
              "      <td>235.146454</td>\n",
              "      <td>952100</td>\n",
              "    </tr>\n",
              "    <tr>\n",
              "      <th>2022-01-05</th>\n",
              "      <td>239.429993</td>\n",
              "      <td>239.649994</td>\n",
              "      <td>236.240005</td>\n",
              "      <td>237.009995</td>\n",
              "      <td>233.510956</td>\n",
              "      <td>1070500</td>\n",
              "    </tr>\n",
              "    <tr>\n",
              "      <th>2022-01-06</th>\n",
              "      <td>236.360001</td>\n",
              "      <td>238.100006</td>\n",
              "      <td>234.220001</td>\n",
              "      <td>234.339996</td>\n",
              "      <td>230.880371</td>\n",
              "      <td>1128100</td>\n",
              "    </tr>\n",
              "    <tr>\n",
              "      <th>2022-01-07</th>\n",
              "      <td>233.050003</td>\n",
              "      <td>235.500000</td>\n",
              "      <td>231.259995</td>\n",
              "      <td>231.559998</td>\n",
              "      <td>228.141418</td>\n",
              "      <td>1233500</td>\n",
              "    </tr>\n",
              "  </tbody>\n",
              "</table>\n",
              "</div>\n",
              "      <button class=\"colab-df-convert\" onclick=\"convertToInteractive('df-ce8176d2-d5ca-46f2-89e6-ee39d594ea49')\"\n",
              "              title=\"Convert this dataframe to an interactive table.\"\n",
              "              style=\"display:none;\">\n",
              "        \n",
              "  <svg xmlns=\"http://www.w3.org/2000/svg\" height=\"24px\"viewBox=\"0 0 24 24\"\n",
              "       width=\"24px\">\n",
              "    <path d=\"M0 0h24v24H0V0z\" fill=\"none\"/>\n",
              "    <path d=\"M18.56 5.44l.94 2.06.94-2.06 2.06-.94-2.06-.94-.94-2.06-.94 2.06-2.06.94zm-11 1L8.5 8.5l.94-2.06 2.06-.94-2.06-.94L8.5 2.5l-.94 2.06-2.06.94zm10 10l.94 2.06.94-2.06 2.06-.94-2.06-.94-.94-2.06-.94 2.06-2.06.94z\"/><path d=\"M17.41 7.96l-1.37-1.37c-.4-.4-.92-.59-1.43-.59-.52 0-1.04.2-1.43.59L10.3 9.45l-7.72 7.72c-.78.78-.78 2.05 0 2.83L4 21.41c.39.39.9.59 1.41.59.51 0 1.02-.2 1.41-.59l7.78-7.78 2.81-2.81c.8-.78.8-2.07 0-2.86zM5.41 20L4 18.59l7.72-7.72 1.47 1.35L5.41 20z\"/>\n",
              "  </svg>\n",
              "      </button>\n",
              "      \n",
              "  <style>\n",
              "    .colab-df-container {\n",
              "      display:flex;\n",
              "      flex-wrap:wrap;\n",
              "      gap: 12px;\n",
              "    }\n",
              "\n",
              "    .colab-df-convert {\n",
              "      background-color: #E8F0FE;\n",
              "      border: none;\n",
              "      border-radius: 50%;\n",
              "      cursor: pointer;\n",
              "      display: none;\n",
              "      fill: #1967D2;\n",
              "      height: 32px;\n",
              "      padding: 0 0 0 0;\n",
              "      width: 32px;\n",
              "    }\n",
              "\n",
              "    .colab-df-convert:hover {\n",
              "      background-color: #E2EBFA;\n",
              "      box-shadow: 0px 1px 2px rgba(60, 64, 67, 0.3), 0px 1px 3px 1px rgba(60, 64, 67, 0.15);\n",
              "      fill: #174EA6;\n",
              "    }\n",
              "\n",
              "    [theme=dark] .colab-df-convert {\n",
              "      background-color: #3B4455;\n",
              "      fill: #D2E3FC;\n",
              "    }\n",
              "\n",
              "    [theme=dark] .colab-df-convert:hover {\n",
              "      background-color: #434B5C;\n",
              "      box-shadow: 0px 1px 3px 1px rgba(0, 0, 0, 0.15);\n",
              "      filter: drop-shadow(0px 1px 2px rgba(0, 0, 0, 0.3));\n",
              "      fill: #FFFFFF;\n",
              "    }\n",
              "  </style>\n",
              "\n",
              "      <script>\n",
              "        const buttonEl =\n",
              "          document.querySelector('#df-ce8176d2-d5ca-46f2-89e6-ee39d594ea49 button.colab-df-convert');\n",
              "        buttonEl.style.display =\n",
              "          google.colab.kernel.accessAllowed ? 'block' : 'none';\n",
              "\n",
              "        async function convertToInteractive(key) {\n",
              "          const element = document.querySelector('#df-ce8176d2-d5ca-46f2-89e6-ee39d594ea49');\n",
              "          const dataTable =\n",
              "            await google.colab.kernel.invokeFunction('convertToInteractive',\n",
              "                                                     [key], {});\n",
              "          if (!dataTable) return;\n",
              "\n",
              "          const docLinkHtml = 'Like what you see? Visit the ' +\n",
              "            '<a target=\"_blank\" href=https://colab.research.google.com/notebooks/data_table.ipynb>data table notebook</a>'\n",
              "            + ' to learn more about interactive tables.';\n",
              "          element.innerHTML = '';\n",
              "          dataTable['output_type'] = 'display_data';\n",
              "          await google.colab.output.renderOutput(dataTable, element);\n",
              "          const docLink = document.createElement('div');\n",
              "          docLink.innerHTML = docLinkHtml;\n",
              "          element.appendChild(docLink);\n",
              "        }\n",
              "      </script>\n",
              "    </div>\n",
              "  </div>\n",
              "  "
            ]
          },
          "metadata": {},
          "execution_count": 62
        }
      ]
    },
    {
      "cell_type": "code",
      "source": [
        "wtw_ret = wtw['Adj Close'].pct_change()\n",
        "wtw_ret.dropna(inplace=True)\n",
        "wtw_ret.head()"
      ],
      "metadata": {
        "colab": {
          "base_uri": "https://localhost:8080/"
        },
        "id": "YF3ZE-xO4Zbf",
        "outputId": "df44c923-674a-48f8-ee2a-ca792e382a0e"
      },
      "execution_count": 65,
      "outputs": [
        {
          "output_type": "execute_result",
          "data": {
            "text/plain": [
              "Date\n",
              "2022-01-04    0.013160\n",
              "2022-01-05   -0.006955\n",
              "2022-01-06   -0.011265\n",
              "2022-01-07   -0.011863\n",
              "2022-01-10    0.004578\n",
              "Name: Adj Close, dtype: float64"
            ]
          },
          "metadata": {},
          "execution_count": 65
        }
      ]
    },
    {
      "cell_type": "code",
      "source": [
        "wtw_ret.describe()"
      ],
      "metadata": {
        "colab": {
          "base_uri": "https://localhost:8080/"
        },
        "id": "x3JI_4rU4jLc",
        "outputId": "fc09eff6-f0a4-4488-9b50-c5200493b3b3"
      },
      "execution_count": 67,
      "outputs": [
        {
          "output_type": "execute_result",
          "data": {
            "text/plain": [
              "count    250.000000\n",
              "mean       0.000332\n",
              "std        0.015695\n",
              "min       -0.061337\n",
              "25%       -0.010570\n",
              "50%        0.000002\n",
              "75%        0.010382\n",
              "max        0.040811\n",
              "Name: Adj Close, dtype: float64"
            ]
          },
          "metadata": {},
          "execution_count": 67
        }
      ]
    },
    {
      "cell_type": "code",
      "source": [
        "# 특정 값을 포함하는 인덱스 가져오기\n",
        "wtw_ret.index[wtw_ret==wtw_ret.max()]"
      ],
      "metadata": {
        "colab": {
          "base_uri": "https://localhost:8080/"
        },
        "id": "uhZP1qfR9KQs",
        "outputId": "256f1db8-64e3-4724-d79f-c30323b711e3"
      },
      "execution_count": 74,
      "outputs": [
        {
          "output_type": "execute_result",
          "data": {
            "text/plain": [
              "DatetimeIndex(['2022-10-28'], dtype='datetime64[ns]', name='Date', freq=None)"
            ]
          },
          "metadata": {},
          "execution_count": 74
        }
      ]
    },
    {
      "cell_type": "code",
      "source": [
        "wtw_sort = wtw_ret.sort_values()\n",
        "wtw_sort"
      ],
      "metadata": {
        "colab": {
          "base_uri": "https://localhost:8080/"
        },
        "id": "FIWiOPMI-rxM",
        "outputId": "bac0ba02-2f47-4e5e-c5a5-f3a75dc523a9"
      },
      "execution_count": 81,
      "outputs": [
        {
          "output_type": "execute_result",
          "data": {
            "text/plain": [
              "Date\n",
              "2022-04-29   -0.061337\n",
              "2022-02-08   -0.045613\n",
              "2022-09-13   -0.040690\n",
              "2022-06-03   -0.032857\n",
              "2022-02-23   -0.028584\n",
              "                ...   \n",
              "2022-06-24    0.035729\n",
              "2022-01-28    0.036325\n",
              "2022-03-15    0.038437\n",
              "2022-11-10    0.038661\n",
              "2022-10-28    0.040811\n",
              "Name: Adj Close, Length: 250, dtype: float64"
            ]
          },
          "metadata": {},
          "execution_count": 81
        }
      ]
    }
  ]
}